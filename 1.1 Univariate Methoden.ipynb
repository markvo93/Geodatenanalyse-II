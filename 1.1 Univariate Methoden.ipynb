{
 "cells": [
  {
   "cell_type": "code",
   "execution_count": 4,
   "id": "f4ef0a87",
   "metadata": {},
   "outputs": [],
   "source": [
    "import numpy as np\n",
    "import pandas as pd "
   ]
  },
  {
   "cell_type": "code",
   "execution_count": 45,
   "id": "f7bbe8fd",
   "metadata": {},
   "outputs": [],
   "source": [
    "#Daten einlesen\n",
    "data = pd.read_csv(\"GW_data.csv\",delimiter=\",\")\n",
    "#einzelnen Parameter, der aus stetigen Daten besteht (Grundwassertemperatur) als Array speichern\n",
    "GWT = data['T [°C]']"
   ]
  },
  {
   "cell_type": "code",
   "execution_count": 6,
   "id": "5c7dd5c6",
   "metadata": {
    "scrolled": true
   },
   "outputs": [
    {
     "data": {
      "text/plain": [
       "46"
      ]
     },
     "execution_count": 6,
     "metadata": {},
     "output_type": "execute_result"
    }
   ],
   "source": [
    "#1.Univariate Statistik \n",
    "#Bestimmung der Lageparameter; angefangen mit dem arithmetischen Mittel \n",
    "#zu Beginn ist es wichtig sich der Beschaffenheit der Daten anzuschauen und ggf. die 0-Werte zu eliminieren\n",
    "GWT.isnull().sum()"
   ]
  },
  {
   "cell_type": "code",
   "execution_count": 46,
   "id": "e9b4bb92",
   "metadata": {},
   "outputs": [],
   "source": [
    "#Elimierung der 0 Werte\n",
    "GWT_df = GWT.dropna()"
   ]
  },
  {
   "cell_type": "code",
   "execution_count": 47,
   "id": "247dc3ba",
   "metadata": {},
   "outputs": [],
   "source": [
    "#Anzahl (n) der Werte im Datensatz\n",
    "n = len(GWT_df)"
   ]
  },
  {
   "cell_type": "code",
   "execution_count": 48,
   "id": "57d3f5d8",
   "metadata": {
    "scrolled": true
   },
   "outputs": [
    {
     "name": "stdout",
     "output_type": "stream",
     "text": [
      "12.560178685386111\n"
     ]
    }
   ],
   "source": [
    "#Berechnung des arithmetrischen Mittel \n",
    "amean_GWT = (1/n)*sum(GWT_df)\n",
    "print(amean_GWT)"
   ]
  },
  {
   "cell_type": "code",
   "execution_count": 10,
   "id": "750efe00",
   "metadata": {},
   "outputs": [
    {
     "name": "stdout",
     "output_type": "stream",
     "text": [
      "12.3\n"
     ]
    }
   ],
   "source": [
    "#Berechnung des Medians; dafür müssen die Daten ersteinmal sortiert werden \n",
    "GWT_sorted=sorted(GWT_df)\n",
    "#print (GWT_sorted)\n",
    "Median_GWT=GWT_sorted[int((n+1)/2)]\n",
    "print(Median_GWT)"
   ]
  },
  {
   "cell_type": "code",
   "execution_count": 49,
   "id": "12cc510a",
   "metadata": {},
   "outputs": [
    {
     "name": "stdout",
     "output_type": "stream",
     "text": [
      "[11.4, 12.3, 13.4]\n"
     ]
    }
   ],
   "source": [
    "#Berechnung der Quartile\n",
    "import statistics\n",
    "quart_GWT = statistics.quantiles(GWT_df)\n",
    "print(quart_GWT)"
   ]
  },
  {
   "cell_type": "code",
   "execution_count": 50,
   "id": "ed9fbdfa",
   "metadata": {},
   "outputs": [
    {
     "name": "stdout",
     "output_type": "stream",
     "text": [
      "17.4\n"
     ]
    }
   ],
   "source": [
    "#2.Bestimmung des Streuungsmaß\n",
    "#Berechnung der Range\n",
    "Range_GWT = max(GWT_df)-min(GWT_df)\n",
    "print(Range_GWT)"
   ]
  },
  {
   "cell_type": "code",
   "execution_count": 51,
   "id": "218fc6ff",
   "metadata": {},
   "outputs": [
    {
     "name": "stdout",
     "output_type": "stream",
     "text": [
      "2.0\n"
     ]
    }
   ],
   "source": [
    "# Berechnung des Interquartilbereich (IQR) anhand der Quartile \n",
    "IQR_GWT = quart_GWT[2]-quart_GWT[0]\n",
    "print(IQR_GWT)"
   ]
  },
  {
   "cell_type": "code",
   "execution_count": 52,
   "id": "62979511",
   "metadata": {},
   "outputs": [
    {
     "name": "stdout",
     "output_type": "stream",
     "text": [
      "1.601036041437003\n",
      "2.5633164059802693\n"
     ]
    }
   ],
   "source": [
    "# Berechnung der Standartabweichung und Varianz\n",
    "stabw_GWT = statistics.stdev(GWT_df)\n",
    "print(stabw_GWT)\n",
    "\n",
    "var_GWT = statistics.variance(GWT_df)\n",
    "print(var_GWT)"
   ]
  },
  {
   "cell_type": "code",
   "execution_count": 22,
   "id": "6a0f440f",
   "metadata": {},
   "outputs": [
    {
     "name": "stdout",
     "output_type": "stream",
     "text": [
      "0.16250645123053448\n"
     ]
    }
   ],
   "source": [
    "#3. Bestimmung der Schiefe und Wölbung\n",
    "#Berechnung der Pearson's Modus Schiefe\n",
    "Pearson_GWT = (amean_GWT - Median_GWT)/stabw_GWT\n",
    "print (Pearson_GWT)"
   ]
  },
  {
   "cell_type": "code",
   "execution_count": 55,
   "id": "fc753b53",
   "metadata": {},
   "outputs": [
    {
     "data": {
      "text/plain": [
       "3.806095846735044"
      ]
     },
     "execution_count": 55,
     "metadata": {},
     "output_type": "execute_result"
    }
   ],
   "source": [
    "#Berechnung der Wölbung\n",
    "from scipy.stats import norm, kurtosis\n",
    "kurtosis(GWT_df)"
   ]
  },
  {
   "cell_type": "markdown",
   "id": "69964612",
   "metadata": {},
   "source": [
    "##2. Parameter Sauerstoffgehalt \n"
   ]
  },
  {
   "cell_type": "code",
   "execution_count": 56,
   "id": "2260b012",
   "metadata": {},
   "outputs": [],
   "source": [
    "#Indizierung des Sauerstoffgehaltes \n",
    "O2 = data['O2 [mg/l]']"
   ]
  },
  {
   "cell_type": "code",
   "execution_count": 57,
   "id": "d77a2885",
   "metadata": {},
   "outputs": [
    {
     "data": {
      "text/plain": [
       "685"
      ]
     },
     "execution_count": 57,
     "metadata": {},
     "output_type": "execute_result"
    }
   ],
   "source": [
    "#1.Univariate Statistik \n",
    "#Bestimmung der Lageparameter; angefangen mit dem arithmetischen Mittel \n",
    "#zu Beginn ist es wichtig sich der Beschaffenheit der Daten anzuschauen und ggf. die 0-Werte zu eliminieren\n",
    "O2.isnull().sum()"
   ]
  },
  {
   "cell_type": "code",
   "execution_count": 58,
   "id": "1166a0c8",
   "metadata": {},
   "outputs": [],
   "source": [
    "O2_df = O2.dropna()"
   ]
  },
  {
   "cell_type": "code",
   "execution_count": 59,
   "id": "2852b87d",
   "metadata": {},
   "outputs": [],
   "source": [
    "#Anzahl (n) der Werte im Datensatz\n",
    "n = len(O2_df)"
   ]
  },
  {
   "cell_type": "code",
   "execution_count": 60,
   "id": "1e0c8fd6",
   "metadata": {},
   "outputs": [
    {
     "name": "stdout",
     "output_type": "stream",
     "text": [
      "2.342525050100202\n"
     ]
    }
   ],
   "source": [
    "#Berechnung des arithmetrischen Mittel \n",
    "amean_O2 = (1/n)*sum(O2_df)\n",
    "print(amean_O2)"
   ]
  },
  {
   "cell_type": "code",
   "execution_count": 65,
   "id": "eefaad3c",
   "metadata": {},
   "outputs": [
    {
     "name": "stdout",
     "output_type": "stream",
     "text": [
      "1.5\n"
     ]
    }
   ],
   "source": [
    "#Berechnung des Medians; dafür müssen die Daten ersteinmal sortiert werden \n",
    "O2_sorted=sorted(O2_df)\n",
    "#print (GWT_sorted)\n",
    "Median_O2=O2_sorted[int((n+1)/2)]\n",
    "print(Median_O2)"
   ]
  },
  {
   "cell_type": "code",
   "execution_count": 66,
   "id": "3ec430b2",
   "metadata": {},
   "outputs": [
    {
     "name": "stdout",
     "output_type": "stream",
     "text": [
      "[0.6, 1.5, 3.3]\n"
     ]
    }
   ],
   "source": [
    "#Berechnung der Quantile\n",
    "import statistics\n",
    "quart_O2 = statistics.quantiles(O2_df)\n",
    "print(quart_O2)"
   ]
  },
  {
   "cell_type": "code",
   "execution_count": 67,
   "id": "aa102a8d",
   "metadata": {},
   "outputs": [
    {
     "name": "stdout",
     "output_type": "stream",
     "text": [
      "11.3\n"
     ]
    }
   ],
   "source": [
    "#2.Bestimmung des Streuungsmaß\n",
    "#Berechnung der Range\n",
    "Range_O2 = max(O2_df)-min(O2_df)\n",
    "print(Range_O2)"
   ]
  },
  {
   "cell_type": "code",
   "execution_count": 68,
   "id": "8ee89c24",
   "metadata": {},
   "outputs": [
    {
     "name": "stdout",
     "output_type": "stream",
     "text": [
      "2.6999999999999997\n"
     ]
    }
   ],
   "source": [
    "#Da der Wertebereich zwischen den Extremwerten berechnet wird, ist er sehr anfällig für Ausreißer und daher in den meisten Fällen nicht als robustes Schätzwert für das Streuungsmaß geeignet. Besser geeignet ist der Interquartilbereich (IQR), also die mittleren 50% der Datenpunkte. Berechnet nun mit Hilfe der oben bestimmten Quartile den IQR, und vergleicht ihn mit dem Wertebereich.\n",
    "IQR_O2 = quart_O2[2]-quart_O2[0]\n",
    "print(IQR_O2)"
   ]
  },
  {
   "cell_type": "code",
   "execution_count": 69,
   "id": "abf195a7",
   "metadata": {},
   "outputs": [
    {
     "name": "stdout",
     "output_type": "stream",
     "text": [
      "2.3929040122709497\n",
      "5.725989611942409\n"
     ]
    }
   ],
   "source": [
    "# Standartabweichung und Varianz wird berechnet \n",
    "stabw_O2 = statistics.stdev(O2_df)\n",
    "print(stabw_O2)\n",
    "var_O2 = statistics.variance(O2_df)\n",
    "print(var_O2)"
   ]
  },
  {
   "cell_type": "code",
   "execution_count": 70,
   "id": "b91ee91b",
   "metadata": {},
   "outputs": [
    {
     "name": "stdout",
     "output_type": "stream",
     "text": [
      "0.3520931244127157\n"
     ]
    }
   ],
   "source": [
    "#Schiefe nach Pearson\n",
    "Pearson_O2 = (amean_O2 - Median_O2)/stabw_O2\n",
    "print (Pearson_O2)"
   ]
  },
  {
   "cell_type": "code",
   "execution_count": 71,
   "id": "69684d6c",
   "metadata": {},
   "outputs": [
    {
     "data": {
      "text/plain": [
       "2.148957735954059"
      ]
     },
     "execution_count": 71,
     "metadata": {},
     "output_type": "execute_result"
    }
   ],
   "source": [
    "#Wölbung\n",
    "from scipy.stats import norm, kurtosis\n",
    "kurtosis(O2_df)"
   ]
  },
  {
   "cell_type": "code",
   "execution_count": 73,
   "id": "21862fe8",
   "metadata": {},
   "outputs": [
    {
     "data": {
      "text/html": [
       "<div>\n",
       "<style scoped>\n",
       "    .dataframe tbody tr th:only-of-type {\n",
       "        vertical-align: middle;\n",
       "    }\n",
       "\n",
       "    .dataframe tbody tr th {\n",
       "        vertical-align: top;\n",
       "    }\n",
       "\n",
       "    .dataframe thead th {\n",
       "        text-align: right;\n",
       "    }\n",
       "</style>\n",
       "<table border=\"1\" class=\"dataframe\">\n",
       "  <thead>\n",
       "    <tr style=\"text-align: right;\">\n",
       "      <th></th>\n",
       "      <th>Variable</th>\n",
       "      <th>Grundwassertemperatur [°C]</th>\n",
       "      <th>O2 [mg/l]</th>\n",
       "    </tr>\n",
       "  </thead>\n",
       "  <tbody>\n",
       "    <tr>\n",
       "      <th>0</th>\n",
       "      <td>arithm. Mittel</td>\n",
       "      <td>12.5602</td>\n",
       "      <td>2.34253</td>\n",
       "    </tr>\n",
       "    <tr>\n",
       "      <th>1</th>\n",
       "      <td>Median</td>\n",
       "      <td>12.3</td>\n",
       "      <td>1.5</td>\n",
       "    </tr>\n",
       "    <tr>\n",
       "      <th>2</th>\n",
       "      <td>Quartile</td>\n",
       "      <td>[11.4, 12.3, 13.4]</td>\n",
       "      <td>[0.6, 1.5, 3.3]</td>\n",
       "    </tr>\n",
       "    <tr>\n",
       "      <th>3</th>\n",
       "      <td>Range</td>\n",
       "      <td>17.4</td>\n",
       "      <td>11.3</td>\n",
       "    </tr>\n",
       "    <tr>\n",
       "      <th>4</th>\n",
       "      <td>IQR</td>\n",
       "      <td>2</td>\n",
       "      <td>2.7</td>\n",
       "    </tr>\n",
       "    <tr>\n",
       "      <th>5</th>\n",
       "      <td>Standardabweichung</td>\n",
       "      <td>1.60104</td>\n",
       "      <td>2.3929</td>\n",
       "    </tr>\n",
       "    <tr>\n",
       "      <th>6</th>\n",
       "      <td>Varianz</td>\n",
       "      <td>2.56332</td>\n",
       "      <td>5.72599</td>\n",
       "    </tr>\n",
       "    <tr>\n",
       "      <th>7</th>\n",
       "      <td>Skewness Pearson</td>\n",
       "      <td>0.162506</td>\n",
       "      <td>0.352093</td>\n",
       "    </tr>\n",
       "    <tr>\n",
       "      <th>8</th>\n",
       "      <td>Kurtosis</td>\n",
       "      <td>3.8061</td>\n",
       "      <td>2.14896</td>\n",
       "    </tr>\n",
       "  </tbody>\n",
       "</table>\n",
       "</div>"
      ],
      "text/plain": [
       "             Variable Grundwassertemperatur [°C]        O2 [mg/l]\n",
       "0     arithm. Mittel                     12.5602          2.34253\n",
       "1              Median                       12.3              1.5\n",
       "2            Quartile         [11.4, 12.3, 13.4]  [0.6, 1.5, 3.3]\n",
       "3               Range                       17.4             11.3\n",
       "4                 IQR                          2              2.7\n",
       "5  Standardabweichung                    1.60104           2.3929\n",
       "6             Varianz                    2.56332          5.72599\n",
       "7    Skewness Pearson                   0.162506         0.352093\n",
       "8            Kurtosis                     3.8061          2.14896"
      ]
     },
     "execution_count": 73,
     "metadata": {},
     "output_type": "execute_result"
    }
   ],
   "source": [
    "#Erstellen eines Datenframes zur Veranschaulichung der Ergebnisse \n",
    "uni_stat = pd.DataFrame(\n",
    "    {\n",
    "        \"Variable\": [\"arithm. Mittel \", \"Median\", \"Quartile\", \"Range\",\"IQR\",\"Standardabweichung\",\"Varianz\",\"Skewness Pearson\", \"Kurtosis\"],\n",
    "        \"Grundwassertemperatur [°C]\": [amean_GWT, Median_GWT, quart_GWT, Range_GWT, IQR_GWT, stabw_GWT, var_GWT,Pearson_GWT,kurtosis(GWT_df)],\n",
    "        \"O2 [mg/l]\": [amean_O2, Median_O2, quart_O2, Range_O2, IQR_O2, stabw_O2, var_O2,Pearson_O2,kurtosis(O2_df)]\n",
    "    }\n",
    ")\n",
    "\n",
    "# Der fertige Datensan\n",
    "uni_stat"
   ]
  },
  {
   "cell_type": "code",
   "execution_count": 44,
   "id": "073e822b",
   "metadata": {},
   "outputs": [
    {
     "data": {
      "text/html": [
       "<div>\n",
       "<style scoped>\n",
       "    .dataframe tbody tr th:only-of-type {\n",
       "        vertical-align: middle;\n",
       "    }\n",
       "\n",
       "    .dataframe tbody tr th {\n",
       "        vertical-align: top;\n",
       "    }\n",
       "\n",
       "    .dataframe thead th {\n",
       "        text-align: right;\n",
       "    }\n",
       "</style>\n",
       "<table border=\"1\" class=\"dataframe\">\n",
       "  <thead>\n",
       "    <tr style=\"text-align: right;\">\n",
       "      <th></th>\n",
       "      <th>Abstich [cm]</th>\n",
       "      <th>LF [µS/cm]</th>\n",
       "      <th>pH [ -]</th>\n",
       "      <th>O2 [mg/l]</th>\n",
       "      <th>O2-Sätt [%]</th>\n",
       "      <th>T [°C]</th>\n",
       "      <th>F [mg/l]</th>\n",
       "      <th>Mg [mg/l]</th>\n",
       "      <th>PO4 [mg/l]</th>\n",
       "      <th>NH4 [mg/l]</th>\n",
       "      <th>...</th>\n",
       "      <th>Mn [mg/l]</th>\n",
       "      <th>Na [mg/l]</th>\n",
       "      <th>NO3 [mg/l]</th>\n",
       "      <th>P, ges [mg/l]</th>\n",
       "      <th>KS 4,3 [mmol/l]</th>\n",
       "      <th>KS 8,2 [mmol/l]</th>\n",
       "      <th>SO4 [mg/l]</th>\n",
       "      <th>GH [mmol/l]</th>\n",
       "      <th>Tr.quant [FNU]</th>\n",
       "      <th>K [mg/l]</th>\n",
       "    </tr>\n",
       "  </thead>\n",
       "  <tbody>\n",
       "    <tr>\n",
       "      <th>count</th>\n",
       "      <td>1951.000000</td>\n",
       "      <td>3014.000000</td>\n",
       "      <td>3037.000000</td>\n",
       "      <td>2495.000000</td>\n",
       "      <td>2523.000000</td>\n",
       "      <td>3134.000000</td>\n",
       "      <td>509.000000</td>\n",
       "      <td>1514.000000</td>\n",
       "      <td>710.000000</td>\n",
       "      <td>1604.000000</td>\n",
       "      <td>...</td>\n",
       "      <td>485.000000</td>\n",
       "      <td>1516.000000</td>\n",
       "      <td>2174.000000</td>\n",
       "      <td>477.000000</td>\n",
       "      <td>1494.000000</td>\n",
       "      <td>0.0</td>\n",
       "      <td>1494.000000</td>\n",
       "      <td>1510.000000</td>\n",
       "      <td>205.000000</td>\n",
       "      <td>1514.000000</td>\n",
       "    </tr>\n",
       "    <tr>\n",
       "      <th>mean</th>\n",
       "      <td>443.829951</td>\n",
       "      <td>595.749440</td>\n",
       "      <td>7.168627</td>\n",
       "      <td>2.342525</td>\n",
       "      <td>21.926080</td>\n",
       "      <td>12.560179</td>\n",
       "      <td>0.098012</td>\n",
       "      <td>15.372523</td>\n",
       "      <td>0.150744</td>\n",
       "      <td>0.270106</td>\n",
       "      <td>...</td>\n",
       "      <td>0.254701</td>\n",
       "      <td>19.099208</td>\n",
       "      <td>25.842180</td>\n",
       "      <td>0.047034</td>\n",
       "      <td>5.329806</td>\n",
       "      <td>NaN</td>\n",
       "      <td>92.407631</td>\n",
       "      <td>3.699550</td>\n",
       "      <td>3.718780</td>\n",
       "      <td>4.443719</td>\n",
       "    </tr>\n",
       "    <tr>\n",
       "      <th>std</th>\n",
       "      <td>204.221665</td>\n",
       "      <td>230.563299</td>\n",
       "      <td>0.199372</td>\n",
       "      <td>2.392904</td>\n",
       "      <td>22.487564</td>\n",
       "      <td>1.601036</td>\n",
       "      <td>0.044543</td>\n",
       "      <td>6.528096</td>\n",
       "      <td>0.271578</td>\n",
       "      <td>0.368846</td>\n",
       "      <td>...</td>\n",
       "      <td>0.340359</td>\n",
       "      <td>14.857616</td>\n",
       "      <td>26.643337</td>\n",
       "      <td>0.064153</td>\n",
       "      <td>1.435759</td>\n",
       "      <td>NaN</td>\n",
       "      <td>76.995202</td>\n",
       "      <td>1.299756</td>\n",
       "      <td>8.601802</td>\n",
       "      <td>5.269000</td>\n",
       "    </tr>\n",
       "    <tr>\n",
       "      <th>min</th>\n",
       "      <td>1.234000</td>\n",
       "      <td>1.000000</td>\n",
       "      <td>6.210000</td>\n",
       "      <td>0.100000</td>\n",
       "      <td>0.100000</td>\n",
       "      <td>6.400000</td>\n",
       "      <td>0.050000</td>\n",
       "      <td>2.300000</td>\n",
       "      <td>0.007000</td>\n",
       "      <td>0.010000</td>\n",
       "      <td>...</td>\n",
       "      <td>0.000000</td>\n",
       "      <td>2.000000</td>\n",
       "      <td>0.100000</td>\n",
       "      <td>0.003000</td>\n",
       "      <td>0.200000</td>\n",
       "      <td>NaN</td>\n",
       "      <td>1.000000</td>\n",
       "      <td>0.340000</td>\n",
       "      <td>0.050000</td>\n",
       "      <td>0.000000</td>\n",
       "    </tr>\n",
       "    <tr>\n",
       "      <th>25%</th>\n",
       "      <td>289.000000</td>\n",
       "      <td>547.000000</td>\n",
       "      <td>7.080000</td>\n",
       "      <td>0.600000</td>\n",
       "      <td>5.000000</td>\n",
       "      <td>11.400000</td>\n",
       "      <td>0.070000</td>\n",
       "      <td>11.925000</td>\n",
       "      <td>0.034250</td>\n",
       "      <td>0.020000</td>\n",
       "      <td>...</td>\n",
       "      <td>0.060000</td>\n",
       "      <td>10.375000</td>\n",
       "      <td>6.500000</td>\n",
       "      <td>0.010000</td>\n",
       "      <td>4.700000</td>\n",
       "      <td>NaN</td>\n",
       "      <td>44.000000</td>\n",
       "      <td>3.080000</td>\n",
       "      <td>0.190000</td>\n",
       "      <td>1.700000</td>\n",
       "    </tr>\n",
       "    <tr>\n",
       "      <th>50%</th>\n",
       "      <td>406.000000</td>\n",
       "      <td>628.000000</td>\n",
       "      <td>7.200000</td>\n",
       "      <td>1.500000</td>\n",
       "      <td>14.000000</td>\n",
       "      <td>12.300000</td>\n",
       "      <td>0.090000</td>\n",
       "      <td>14.600000</td>\n",
       "      <td>0.079500</td>\n",
       "      <td>0.120000</td>\n",
       "      <td>...</td>\n",
       "      <td>0.150000</td>\n",
       "      <td>15.000000</td>\n",
       "      <td>15.500000</td>\n",
       "      <td>0.020000</td>\n",
       "      <td>5.300000</td>\n",
       "      <td>NaN</td>\n",
       "      <td>76.000000</td>\n",
       "      <td>3.525000</td>\n",
       "      <td>0.500000</td>\n",
       "      <td>2.500000</td>\n",
       "    </tr>\n",
       "    <tr>\n",
       "      <th>75%</th>\n",
       "      <td>558.000000</td>\n",
       "      <td>725.000000</td>\n",
       "      <td>7.290000</td>\n",
       "      <td>3.300000</td>\n",
       "      <td>31.000000</td>\n",
       "      <td>13.400000</td>\n",
       "      <td>0.120000</td>\n",
       "      <td>18.000000</td>\n",
       "      <td>0.172000</td>\n",
       "      <td>0.370000</td>\n",
       "      <td>...</td>\n",
       "      <td>0.310000</td>\n",
       "      <td>23.000000</td>\n",
       "      <td>37.800000</td>\n",
       "      <td>0.059000</td>\n",
       "      <td>6.040000</td>\n",
       "      <td>NaN</td>\n",
       "      <td>113.000000</td>\n",
       "      <td>4.217500</td>\n",
       "      <td>1.600000</td>\n",
       "      <td>4.800000</td>\n",
       "    </tr>\n",
       "    <tr>\n",
       "      <th>max</th>\n",
       "      <td>992.000000</td>\n",
       "      <td>999.000000</td>\n",
       "      <td>7.870000</td>\n",
       "      <td>11.400000</td>\n",
       "      <td>115.000000</td>\n",
       "      <td>23.800000</td>\n",
       "      <td>0.370000</td>\n",
       "      <td>42.000000</td>\n",
       "      <td>5.000000</td>\n",
       "      <td>2.580000</td>\n",
       "      <td>...</td>\n",
       "      <td>2.640000</td>\n",
       "      <td>125.000000</td>\n",
       "      <td>164.000000</td>\n",
       "      <td>0.559000</td>\n",
       "      <td>10.200000</td>\n",
       "      <td>NaN</td>\n",
       "      <td>510.000000</td>\n",
       "      <td>10.300000</td>\n",
       "      <td>65.530000</td>\n",
       "      <td>42.200000</td>\n",
       "    </tr>\n",
       "  </tbody>\n",
       "</table>\n",
       "<p>8 rows × 24 columns</p>\n",
       "</div>"
      ],
      "text/plain": [
       "       Abstich [cm]   LF [µS/cm]      pH [ -]    O2 [mg/l]  O2-Sätt [%]  \\\n",
       "count   1951.000000  3014.000000  3037.000000  2495.000000  2523.000000   \n",
       "mean     443.829951   595.749440     7.168627     2.342525    21.926080   \n",
       "std      204.221665   230.563299     0.199372     2.392904    22.487564   \n",
       "min        1.234000     1.000000     6.210000     0.100000     0.100000   \n",
       "25%      289.000000   547.000000     7.080000     0.600000     5.000000   \n",
       "50%      406.000000   628.000000     7.200000     1.500000    14.000000   \n",
       "75%      558.000000   725.000000     7.290000     3.300000    31.000000   \n",
       "max      992.000000   999.000000     7.870000    11.400000   115.000000   \n",
       "\n",
       "            T [°C]    F [mg/l]    Mg [mg/l]  PO4 [mg/l]   NH4 [mg/l]  ...  \\\n",
       "count  3134.000000  509.000000  1514.000000  710.000000  1604.000000  ...   \n",
       "mean     12.560179    0.098012    15.372523    0.150744     0.270106  ...   \n",
       "std       1.601036    0.044543     6.528096    0.271578     0.368846  ...   \n",
       "min       6.400000    0.050000     2.300000    0.007000     0.010000  ...   \n",
       "25%      11.400000    0.070000    11.925000    0.034250     0.020000  ...   \n",
       "50%      12.300000    0.090000    14.600000    0.079500     0.120000  ...   \n",
       "75%      13.400000    0.120000    18.000000    0.172000     0.370000  ...   \n",
       "max      23.800000    0.370000    42.000000    5.000000     2.580000  ...   \n",
       "\n",
       "        Mn [mg/l]    Na [mg/l]   NO3 [mg/l]  P, ges [mg/l]  KS 4,3 [mmol/l]  \\\n",
       "count  485.000000  1516.000000  2174.000000     477.000000      1494.000000   \n",
       "mean     0.254701    19.099208    25.842180       0.047034         5.329806   \n",
       "std      0.340359    14.857616    26.643337       0.064153         1.435759   \n",
       "min      0.000000     2.000000     0.100000       0.003000         0.200000   \n",
       "25%      0.060000    10.375000     6.500000       0.010000         4.700000   \n",
       "50%      0.150000    15.000000    15.500000       0.020000         5.300000   \n",
       "75%      0.310000    23.000000    37.800000       0.059000         6.040000   \n",
       "max      2.640000   125.000000   164.000000       0.559000        10.200000   \n",
       "\n",
       "       KS 8,2 [mmol/l]   SO4 [mg/l]  GH [mmol/l]  Tr.quant [FNU]     K [mg/l]  \n",
       "count              0.0  1494.000000  1510.000000      205.000000  1514.000000  \n",
       "mean               NaN    92.407631     3.699550        3.718780     4.443719  \n",
       "std                NaN    76.995202     1.299756        8.601802     5.269000  \n",
       "min                NaN     1.000000     0.340000        0.050000     0.000000  \n",
       "25%                NaN    44.000000     3.080000        0.190000     1.700000  \n",
       "50%                NaN    76.000000     3.525000        0.500000     2.500000  \n",
       "75%                NaN   113.000000     4.217500        1.600000     4.800000  \n",
       "max                NaN   510.000000    10.300000       65.530000    42.200000  \n",
       "\n",
       "[8 rows x 24 columns]"
      ]
     },
     "execution_count": 44,
     "metadata": {},
     "output_type": "execute_result"
    }
   ],
   "source": [
    "#Wenn man einen Überblick über den kompletten Datensatz haben will, gibt es den Befehl .describe()\n",
    "data.describe()"
   ]
  },
  {
   "cell_type": "code",
   "execution_count": null,
   "id": "5395ba46",
   "metadata": {},
   "outputs": [],
   "source": []
  }
 ],
 "metadata": {
  "kernelspec": {
   "display_name": "Python 3",
   "language": "python",
   "name": "python3"
  },
  "language_info": {
   "codemirror_mode": {
    "name": "ipython",
    "version": 3
   },
   "file_extension": ".py",
   "mimetype": "text/x-python",
   "name": "python",
   "nbconvert_exporter": "python",
   "pygments_lexer": "ipython3",
   "version": "3.7.7"
  }
 },
 "nbformat": 4,
 "nbformat_minor": 5
}
